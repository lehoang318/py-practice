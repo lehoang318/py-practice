{
 "cells": [
  {
   "cell_type": "code",
   "execution_count": 23,
   "metadata": {},
   "outputs": [
    {
     "name": "stdout",
     "output_type": "stream",
     "text": [
      "Row vector (3,):\n",
      "[1 2 3]\n",
      "\n",
      "Column vector (3, 1):\n",
      "[[1]\n",
      " [2]\n",
      " [3]]\n",
      "\n",
      "A matrix (2, 3):\n",
      "[[1 2 3]\n",
      " [4 5 6]]\n",
      "\n",
      "Identity matrix (3, 3):\n",
      "[[1. 0. 0.]\n",
      " [0. 1. 0.]\n",
      " [0. 0. 1.]]\n",
      "\n",
      "A matrix filled with ones (3, 2):\n",
      "[[1 1]\n",
      " [1 1]\n",
      " [1 1]]\n",
      "\n",
      "A matrix filled with zeros (3, 2):\n",
      "[[0 0]\n",
      " [0 0]\n",
      " [0 0]]\n",
      "\n",
      "A matrix filled with random float numbers (3, 3):\n",
      "[[0.60681833 0.05415202 0.11658929]\n",
      " [0.82881748 0.7000841  0.6312773 ]\n",
      " [0.19767968 0.57007708 0.81640595]]\n",
      "\n",
      "A matrix filled with random int numbers (3, 3):\n",
      "[[ 4  3 -5]\n",
      " [ 2  8 -6]\n",
      " [-6  6 -6]]\n",
      "\n"
     ]
    }
   ],
   "source": [
    "# Matrix/Vector Constructors\n",
    "import numpy as np\n",
    "\n",
    "objDict = {}\n",
    "# Matrix 1x3 / Vector as a row\n",
    "v0 = np.array([1,2,3])\n",
    "objDict['Row vector'] = v0\n",
    "\n",
    "# Matrix 3x1 / Vector as a column\n",
    "v1 = np.array([[1],[2],[3]])\n",
    "objDict['Column vector'] = v1\n",
    "\n",
    "# Matrix 2x3\n",
    "M0 = np.array([[1,2,3],[4,5,6]])\n",
    "objDict['A matrix'] = M0\n",
    "\n",
    "# Identity matrix\n",
    "M1 = np.identity(3)\n",
    "objDict['Identity matrix']  = M1\n",
    "\n",
    "# Ones matrix\n",
    "M2 = np.ones((3,2), dtype = np.int32)\n",
    "objDict['A matrix filled with ones'] = M2\n",
    "\n",
    "# Zeros matrix\n",
    "M3 = np.zeros((3,2), dtype = np.int32)\n",
    "objDict['A matrix filled with zeros'] = M3\n",
    "\n",
    "# Random (uniform distribution) matrix - float numbers in [0, 1)\n",
    "M4 = np.random.rand(3,3)\n",
    "objDict['A matrix filled with random float numbers'] = M4\n",
    "\n",
    "# Random (uniform distribution) matrix - integer numbers in [low, high]\n",
    "M5 = np.random.randint(-10, 10, size = (3,3))\n",
    "objDict['A matrix filled with random int numbers'] = M5\n",
    "\n",
    "# Display\n",
    "for key, obj in objDict.items():\n",
    "    print('{0:s} {1:s}:\\n{2:s}\\n'.format(key, str(np.shape(obj)), str(obj)))\n"
   ]
  },
  {
   "cell_type": "code",
   "execution_count": 24,
   "metadata": {},
   "outputs": [
    {
     "data": {
      "text/plain": [
       "array([[ 5,  4, -4],\n",
       "       [ 3,  9, -5],\n",
       "       [-5,  7, -5]])"
      ]
     },
     "execution_count": 24,
     "metadata": {},
     "output_type": "execute_result"
    }
   ],
   "source": [
    "# Matrix + scalar\n",
    "M5 + 1"
   ]
  },
  {
   "cell_type": "code",
   "execution_count": 36,
   "metadata": {},
   "outputs": [
    {
     "name": "stdout",
     "output_type": "stream",
     "text": [
      "M5:\n",
      "[[ 4  3 -5]\n",
      " [ 2  8 -6]\n",
      " [-6  6 -6]]\n",
      "\n",
      "Min of M5: -6\n",
      "\n",
      "Max of M5: 8\n",
      "\n",
      "Min of each row of M5: [-5 -6 -6]\n",
      "\n",
      "Max of each row of M5: [4 8 6]\n",
      "\n",
      "Min of each column of M5: [-6  3 -6]\n",
      "\n",
      "Max of each column of M5: [ 4  8 -5]\n",
      "\n"
     ]
    }
   ],
   "source": [
    "# Min & Max\n",
    "min_max = {}\n",
    "min_max['Min of M5'] = np.min(M5)\n",
    "min_max['Min of each row of M5'] = np.min(M5, axis = 1)\n",
    "min_max['Min of each column of M5'] = np.min(M5, axis = 0)\n",
    "min_max['Max of M5'] = np.max(M5)\n",
    "min_max['Max of each row of M5'] = np.max(M5, axis = 1)\n",
    "min_max['Max of each column of M5'] = np.max(M5, axis = 0)\n",
    "\n",
    "print('M5:\\n{0:s}\\n'.format(str(M5)))\n",
    "for key, value in min_max.items():\n",
    "    print('{0:s}: {1:s}\\n'.format(key, str(value)))"
   ]
  },
  {
   "cell_type": "code",
   "execution_count": 37,
   "metadata": {},
   "outputs": [
    {
     "name": "stdout",
     "output_type": "stream",
     "text": [
      "M5:\n",
      "[[ 4  3 -5]\n",
      " [ 2  8 -6]\n",
      " [-6  6 -6]]\n",
      "\n",
      "Mean of M5: 0.0\n",
      "\n",
      "Mean of each row of M5: [ 0.66666667  1.33333333 -2.        ]\n",
      "\n",
      "Mean of each column of M5: [ 0.          5.66666667 -5.66666667]\n",
      "\n",
      "Var of M5: 29.11111111111111\n",
      "\n",
      "Var of each row of M5: [16.22222222 32.88888889 32.        ]\n",
      "\n",
      "Var of each column of M5: [18.66666667  4.22222222  0.22222222]\n",
      "\n",
      "Std. Var of M5: 5.395471352079548\n",
      "\n",
      "Std. Var of each row of M5: [4.02768199 5.73488351 5.65685425]\n",
      "\n",
      "Std. Var of each column of M5: [4.3204938  2.05480467 0.47140452]\n",
      "\n"
     ]
    }
   ],
   "source": [
    "# Mean & Var & Std Var\n",
    "mean_var = {}\n",
    "mean_var['Mean of M5'] = np.mean(M5)\n",
    "mean_var['Mean of each row of M5'] = np.mean(M5, axis = 1)\n",
    "mean_var['Mean of each column of M5'] = np.mean(M5, axis = 0)\n",
    "\n",
    "mean_var['Var of M5'] = np.var(M5)\n",
    "mean_var['Var of each row of M5'] = np.var(M5, axis = 1)\n",
    "mean_var['Var of each column of M5'] = np.var(M5, axis = 0)\n",
    "\n",
    "mean_var['Std. Var of M5'] = np.std(M5)\n",
    "mean_var['Std. Var of each row of M5'] = np.std(M5, axis = 1)\n",
    "mean_var['Std. Var of each column of M5'] = np.std(M5, axis = 0)\n",
    "\n",
    "print('M5:\\n{0:s}\\n'.format(str(M5)))\n",
    "for key, value in mean_var.items():\n",
    "    print('{0:s}: {1:s}\\n'.format(key, str(value)))"
   ]
  },
  {
   "cell_type": "code",
   "execution_count": null,
   "metadata": {},
   "outputs": [],
   "source": []
  }
 ],
 "metadata": {
  "kernelspec": {
   "display_name": "Python 3",
   "language": "python",
   "name": "python3"
  },
  "language_info": {
   "codemirror_mode": {
    "name": "ipython",
    "version": 3
   },
   "file_extension": ".py",
   "mimetype": "text/x-python",
   "name": "python",
   "nbconvert_exporter": "python",
   "pygments_lexer": "ipython3",
   "version": "3.6.10"
  }
 },
 "nbformat": 4,
 "nbformat_minor": 4
}
