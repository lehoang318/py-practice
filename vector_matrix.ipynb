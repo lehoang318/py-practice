{
 "cells": [
  {
   "cell_type": "code",
   "execution_count": 2,
   "metadata": {},
   "outputs": [
    {
     "name": "stdout",
     "output_type": "stream",
     "text": [
      "Row vector (3,):\n",
      "[1 2 3]\n",
      "\n",
      "Column vector (3, 1):\n",
      "[[1]\n",
      " [2]\n",
      " [3]]\n",
      "\n",
      "A matrix (2, 3):\n",
      "[[1 2 3]\n",
      " [4 5 6]]\n",
      "\n",
      "Identity matrix (3, 3):\n",
      "[[1. 0. 0.]\n",
      " [0. 1. 0.]\n",
      " [0. 0. 1.]]\n",
      "\n",
      "A matrix filled with ones (3, 2):\n",
      "[[1 1]\n",
      " [1 1]\n",
      " [1 1]]\n",
      "\n",
      "A matrix filled with zeros (3, 2):\n",
      "[[0 0]\n",
      " [0 0]\n",
      " [0 0]]\n",
      "\n",
      "A matrix filled with random float numbers (3, 3):\n",
      "[[0.6155961  0.10490414 0.00122874]\n",
      " [0.09284758 0.42754777 0.16616432]\n",
      " [0.50248859 0.74139382 0.46598431]]\n",
      "\n",
      "A matrix filled with random int numbers (3, 3):\n",
      "[[ 2  9 -2]\n",
      " [-6  2  3]\n",
      " [-5  2  8]]\n",
      "\n"
     ]
    }
   ],
   "source": [
    "# Matrix/Vector Constructors\n",
    "import numpy as np\n",
    "\n",
    "objDict = {}\n",
    "# Matrix 1x3 / Vector as a row\n",
    "v0 = np.array([1,2,3])\n",
    "objDict['Row vector'] = v0\n",
    "\n",
    "# Matrix 3x1 / Vector as a column\n",
    "v1 = np.array([[1],[2],[3]])\n",
    "objDict['Column vector'] = v1\n",
    "\n",
    "# Matrix 2x3\n",
    "M0 = np.array([[1,2,3],[4,5,6]])\n",
    "objDict['A matrix'] = M0\n",
    "\n",
    "# Identity matrix\n",
    "M1 = np.identity(3)\n",
    "objDict['Identity matrix']  = M1\n",
    "\n",
    "# Ones matrix\n",
    "M2 = np.ones((3,2), dtype = np.int32)\n",
    "objDict['A matrix filled with ones'] = M2\n",
    "\n",
    "# Zeros matrix\n",
    "M3 = np.zeros((3,2), dtype = np.int32)\n",
    "objDict['A matrix filled with zeros'] = M3\n",
    "\n",
    "# Random (uniform distribution) matrix - float numbers in [0, 1)\n",
    "M4 = np.random.rand(3,3)\n",
    "objDict['A matrix filled with random float numbers'] = M4\n",
    "\n",
    "# Random (uniform distribution) matrix - integer numbers in [low, high]\n",
    "M5 = np.random.randint(-10, 10, size = (3,3))\n",
    "objDict['A matrix filled with random int numbers'] = M5\n",
    "\n",
    "# Display\n",
    "for key, obj in objDict.items():\n",
    "    print('{0:s} {1:s}:\\n{2:s}\\n'.format(key, str(np.shape(obj)), str(obj)))\n"
   ]
  },
  {
   "cell_type": "code",
   "execution_count": 3,
   "metadata": {},
   "outputs": [
    {
     "data": {
      "text/plain": [
       "array([[ 3, 10, -1],\n",
       "       [-5,  3,  4],\n",
       "       [-4,  3,  9]])"
      ]
     },
     "execution_count": 3,
     "metadata": {},
     "output_type": "execute_result"
    }
   ],
   "source": [
    "# Matrix + scalar\n",
    "M5 + 1"
   ]
  },
  {
   "cell_type": "code",
   "execution_count": 4,
   "metadata": {},
   "outputs": [
    {
     "name": "stdout",
     "output_type": "stream",
     "text": [
      "M5:\n",
      "[[ 2  9 -2]\n",
      " [-6  2  3]\n",
      " [-5  2  8]]\n",
      "\n",
      "Min of M5: -6\n",
      "\n",
      "Min of each row of M5: [-2 -6 -5]\n",
      "\n",
      "Min of each column of M5: [-6  2 -2]\n",
      "\n",
      "Max of M5: 9\n",
      "\n",
      "Max of each row of M5: [9 3 8]\n",
      "\n",
      "Max of each column of M5: [2 9 8]\n",
      "\n"
     ]
    }
   ],
   "source": [
    "# Min & Max\n",
    "min_max = {}\n",
    "min_max['Min of M5'] = np.min(M5)\n",
    "min_max['Min of each row of M5'] = np.min(M5, axis = 1)\n",
    "min_max['Min of each column of M5'] = np.min(M5, axis = 0)\n",
    "min_max['Max of M5'] = np.max(M5)\n",
    "min_max['Max of each row of M5'] = np.max(M5, axis = 1)\n",
    "min_max['Max of each column of M5'] = np.max(M5, axis = 0)\n",
    "\n",
    "print('M5:\\n{0:s}\\n'.format(str(M5)))\n",
    "for key, value in min_max.items():\n",
    "    print('{0:s}: {1:s}\\n'.format(key, str(value)))"
   ]
  },
  {
   "cell_type": "code",
   "execution_count": 5,
   "metadata": {},
   "outputs": [
    {
     "name": "stdout",
     "output_type": "stream",
     "text": [
      "M5:\n",
      "[[ 2  9 -2]\n",
      " [-6  2  3]\n",
      " [-5  2  8]]\n",
      "\n",
      "Mean of M5: 1.4444444444444444\n",
      "\n",
      "Mean of each row of M5: [ 3.         -0.33333333  1.66666667]\n",
      "\n",
      "Mean of each column of M5: [-3.          4.33333333  3.        ]\n",
      "\n",
      "Var of M5: 23.580246913580247\n",
      "\n",
      "Var of each row of M5: [20.66666667 16.22222222 28.22222222]\n",
      "\n",
      "Var of each column of M5: [12.66666667 10.88888889 16.66666667]\n",
      "\n",
      "Std. Var of M5: 4.855949640758257\n",
      "\n",
      "Std. Var of each row of M5: [4.54606057 4.02768199 5.31245915]\n",
      "\n",
      "Std. Var of each column of M5: [3.55902608 3.29983165 4.0824829 ]\n",
      "\n"
     ]
    }
   ],
   "source": [
    "# Mean & Var & Std Var\n",
    "mean_var = {}\n",
    "mean_var['Mean of M5'] = np.mean(M5)\n",
    "mean_var['Mean of each row of M5'] = np.mean(M5, axis = 1)\n",
    "mean_var['Mean of each column of M5'] = np.mean(M5, axis = 0)\n",
    "\n",
    "mean_var['Var of M5'] = np.var(M5)\n",
    "mean_var['Var of each row of M5'] = np.var(M5, axis = 1)\n",
    "mean_var['Var of each column of M5'] = np.var(M5, axis = 0)\n",
    "\n",
    "mean_var['Std. Var of M5'] = np.std(M5)\n",
    "mean_var['Std. Var of each row of M5'] = np.std(M5, axis = 1)\n",
    "mean_var['Std. Var of each column of M5'] = np.std(M5, axis = 0)\n",
    "\n",
    "print('M5:\\n{0:s}\\n'.format(str(M5)))\n",
    "for key, value in mean_var.items():\n",
    "    print('{0:s}: {1:s}\\n'.format(key, str(value)))"
   ]
  },
  {
   "cell_type": "code",
   "execution_count": 13,
   "metadata": {},
   "outputs": [
    {
     "name": "stdout",
     "output_type": "stream",
     "text": [
      "Reshaped view of M4: [[ 0.6155961   0.10490414 10.          0.09284758  0.42754777  0.16616432\n",
      "   0.50248859  0.74139382  0.46598431]]\n",
      "\n",
      "New integer matrix: [[ -4   1   2]\n",
      " [  4 -10  -9]\n",
      " [  9   6   0]\n",
      " [  7   8   8]]\n",
      "\n",
      "M7 - Reshaped (2, -1): [[ -4   1   2   4 -10  -9]\n",
      " [  9   6   0   7   8   8]]\n",
      "\n",
      "M7 - Reshaped (1, 5): [ -4   1   2   4 -10  -9   9   6   0   7   8   8]\n",
      "\n"
     ]
    }
   ],
   "source": [
    "reshape_dict = {}\n",
    "M6 = M4.copy()\n",
    "M6 = M6.reshape(1,-1)\n",
    "reshape_dict['Reshaped view of M4'] = M6\n",
    "\n",
    "# M7 & M8 & M9 will point to the same memory region\n",
    "M7 = np.random.randint(-10, 10, size = (4,3))\n",
    "reshape_dict['New integer matrix'] = M7\n",
    "M8 = M7.reshape(2, -1)\n",
    "reshape_dict['M7 - Reshaped (2, -1)'] = M8\n",
    "M9 = M7.reshape(12)\n",
    "reshape_dict['M7 - Reshaped (1, 5)'] = M9\n",
    "\n",
    "for key, value in reshape_dict.items():\n",
    "    print('{0:s}: {1:s}\\n'.format(key, str(value)))"
   ]
  },
  {
   "cell_type": "code",
   "execution_count": null,
   "metadata": {},
   "outputs": [],
   "source": []
  }
 ],
 "metadata": {
  "kernelspec": {
   "display_name": "Python 3",
   "language": "python",
   "name": "python3"
  },
  "language_info": {
   "codemirror_mode": {
    "name": "ipython",
    "version": 3
   },
   "file_extension": ".py",
   "mimetype": "text/x-python",
   "name": "python",
   "nbconvert_exporter": "python",
   "pygments_lexer": "ipython3",
   "version": "3.8.5"
  }
 },
 "nbformat": 4,
 "nbformat_minor": 4
}
