{
 "cells": [
  {
   "cell_type": "code",
   "execution_count": 2,
   "metadata": {},
   "outputs": [
    {
     "name": "stdout",
     "output_type": "stream",
     "text": [
      "Row vector (3,):\n",
      "[1 2 3]\n",
      "\n",
      "Column vector (3, 1):\n",
      "[[1]\n",
      " [2]\n",
      " [3]]\n",
      "\n",
      "A matrix (2, 3):\n",
      "[[1 2 3]\n",
      " [4 5 6]]\n",
      "\n",
      "Identity matrix (3, 3):\n",
      "[[1. 0. 0.]\n",
      " [0. 1. 0.]\n",
      " [0. 0. 1.]]\n",
      "\n",
      "A matrix filled with ones (3, 2):\n",
      "[[1 1]\n",
      " [1 1]\n",
      " [1 1]]\n",
      "\n",
      "A matrix filled with zeros (3, 2):\n",
      "[[0 0]\n",
      " [0 0]\n",
      " [0 0]]\n",
      "\n",
      "A matrix filled with random float numbers (3, 3):\n",
      "[[0.07452231 0.4911985  0.49255716]\n",
      " [0.86381464 0.60278993 0.83816419]\n",
      " [0.79252262 0.86060273 0.4953053 ]]\n",
      "\n",
      "A matrix filled with random int numbers (3, 3):\n",
      "[[-2  5  2]\n",
      " [ 5 -8  1]\n",
      " [ 1 -1 -4]]\n",
      "\n"
     ]
    }
   ],
   "source": [
    "# Matrix/Vector Constructors\n",
    "import numpy as np\n",
    "\n",
    "objDict = {}\n",
    "# Matrix 1x3 / Vector as a row\n",
    "v0 = np.array([1,2,3])\n",
    "objDict['Row vector'] = v0\n",
    "\n",
    "# Matrix 3x1 / Vector as a column\n",
    "v1 = np.array([[1],[2],[3]])\n",
    "objDict['Column vector'] = v1\n",
    "\n",
    "# Matrix 2x3\n",
    "M0 = np.array([[1,2,3],[4,5,6]])\n",
    "objDict['A matrix'] = M0\n",
    "\n",
    "# Identity matrix\n",
    "M1 = np.identity(3)\n",
    "objDict['Identity matrix']  = M1\n",
    "\n",
    "# Ones matrix\n",
    "M2 = np.ones((3,2), dtype = np.int32)\n",
    "objDict['A matrix filled with ones'] = M2\n",
    "\n",
    "# Zeros matrix\n",
    "M3 = np.zeros((3,2), dtype = np.int32)\n",
    "objDict['A matrix filled with zeros'] = M3\n",
    "\n",
    "# Random (uniform distribution) matrix - float numbers in [0, 1)\n",
    "M4 = np.random.rand(3,3)\n",
    "objDict['A matrix filled with random float numbers'] = M4\n",
    "\n",
    "# Random (uniform distribution) matrix - integer numbers in [low, high]\n",
    "M5 = np.random.randint(-10, 10, size = (3,3))\n",
    "objDict['A matrix filled with random int numbers'] = M5\n",
    "\n",
    "# Display\n",
    "for key, obj in objDict.items():\n",
    "    print('{0:s} {1:s}:\\n{2:s}\\n'.format(key, str(np.shape(obj)), str(obj)))\n"
   ]
  },
  {
   "cell_type": "code",
   "execution_count": 3,
   "metadata": {},
   "outputs": [
    {
     "data": {
      "text/plain": [
       "array([[-1,  6,  3],\n",
       "       [ 6, -7,  2],\n",
       "       [ 2,  0, -3]])"
      ]
     },
     "execution_count": 3,
     "metadata": {},
     "output_type": "execute_result"
    }
   ],
   "source": [
    "# Matrix + scalar\n",
    "M5 + 1"
   ]
  },
  {
   "cell_type": "code",
   "execution_count": 4,
   "metadata": {},
   "outputs": [
    {
     "name": "stdout",
     "output_type": "stream",
     "text": [
      "M5:\n",
      "[[-2  5  2]\n",
      " [ 5 -8  1]\n",
      " [ 1 -1 -4]]\n",
      "\n",
      "Min of M5: -8\n",
      "\n",
      "Min of each row of M5: [-2 -8 -4]\n",
      "\n",
      "Min of each column of M5: [-2 -8 -4]\n",
      "\n",
      "Max of M5: 5\n",
      "\n",
      "Max of each row of M5: [5 5 1]\n",
      "\n",
      "Max of each column of M5: [5 5 2]\n",
      "\n"
     ]
    }
   ],
   "source": [
    "# Min & Max\n",
    "min_max = {}\n",
    "min_max['Min of M5'] = np.min(M5)\n",
    "min_max['Min of each row of M5'] = np.min(M5, axis = 1)\n",
    "min_max['Min of each column of M5'] = np.min(M5, axis = 0)\n",
    "min_max['Max of M5'] = np.max(M5)\n",
    "min_max['Max of each row of M5'] = np.max(M5, axis = 1)\n",
    "min_max['Max of each column of M5'] = np.max(M5, axis = 0)\n",
    "\n",
    "print('M5:\\n{0:s}\\n'.format(str(M5)))\n",
    "for key, value in min_max.items():\n",
    "    print('{0:s}: {1:s}\\n'.format(key, str(value)))"
   ]
  },
  {
   "cell_type": "code",
   "execution_count": 5,
   "metadata": {},
   "outputs": [
    {
     "name": "stdout",
     "output_type": "stream",
     "text": [
      "M5:\n",
      "[[-2  5  2]\n",
      " [ 5 -8  1]\n",
      " [ 1 -1 -4]]\n",
      "\n",
      "Mean of M5: -0.1111111111111111\n",
      "\n",
      "Mean of each row of M5: [ 1.66666667 -0.66666667 -1.33333333]\n",
      "\n",
      "Mean of each column of M5: [ 1.33333333 -1.33333333 -0.33333333]\n",
      "\n",
      "Var of M5: 15.654320987654321\n",
      "\n",
      "Var of each row of M5: [ 8.22222222 29.55555556  4.22222222]\n",
      "\n",
      "Var of each column of M5: [ 8.22222222 28.22222222  6.88888889]\n",
      "\n",
      "Std. Var of M5: 3.956554181058857\n",
      "\n",
      "Std. Var of each row of M5: [2.86744176 5.43650214 2.05480467]\n",
      "\n",
      "Std. Var of each column of M5: [2.86744176 5.31245915 2.62466929]\n",
      "\n"
     ]
    }
   ],
   "source": [
    "# Mean & Var & Std Var\n",
    "mean_var = {}\n",
    "mean_var['Mean of M5'] = np.mean(M5)\n",
    "mean_var['Mean of each row of M5'] = np.mean(M5, axis = 1)\n",
    "mean_var['Mean of each column of M5'] = np.mean(M5, axis = 0)\n",
    "\n",
    "mean_var['Var of M5'] = np.var(M5)\n",
    "mean_var['Var of each row of M5'] = np.var(M5, axis = 1)\n",
    "mean_var['Var of each column of M5'] = np.var(M5, axis = 0)\n",
    "\n",
    "mean_var['Std. Var of M5'] = np.std(M5)\n",
    "mean_var['Std. Var of each row of M5'] = np.std(M5, axis = 1)\n",
    "mean_var['Std. Var of each column of M5'] = np.std(M5, axis = 0)\n",
    "\n",
    "print('M5:\\n{0:s}\\n'.format(str(M5)))\n",
    "for key, value in mean_var.items():\n",
    "    print('{0:s}: {1:s}\\n'.format(key, str(value)))"
   ]
  },
  {
   "cell_type": "code",
   "execution_count": 6,
   "metadata": {},
   "outputs": [
    {
     "name": "stdout",
     "output_type": "stream",
     "text": [
      "Reshaped view of M4: [[0.07452231 0.4911985  0.49255716 0.86381464 0.60278993 0.83816419\n",
      "  0.79252262 0.86060273 0.4953053 ]]\n",
      "\n",
      "New integer matrix: [[ 3 -5 -4]\n",
      " [-8 -3  8]\n",
      " [-7  6  3]\n",
      " [ 5 -2  0]]\n",
      "\n",
      "M7 - Reshaped (2, -1): [[ 3 -5 -4 -8 -3  8]\n",
      " [-7  6  3  5 -2  0]]\n",
      "\n",
      "M7 - Reshaped (1, 5): [ 3 -5 -4 -8 -3  8 -7  6  3  5 -2  0]\n",
      "\n"
     ]
    }
   ],
   "source": [
    "# Reshape\n",
    "reshape_dict = {}\n",
    "M6 = M4.copy()\n",
    "M6 = M6.reshape(1,-1)\n",
    "reshape_dict['Reshaped view of M4'] = M6\n",
    "\n",
    "# M7 & M8 & M9 will point to the same memory region\n",
    "M7 = np.random.randint(-10, 10, size = (4,3))\n",
    "reshape_dict['New integer matrix'] = M7\n",
    "M8 = M7.reshape(2, -1)\n",
    "reshape_dict['M7 - Reshaped (2, -1)'] = M8\n",
    "M9 = M7.reshape(12)\n",
    "reshape_dict['M7 - Reshaped (1, 5)'] = M9\n",
    "\n",
    "for key, value in reshape_dict.items():\n",
    "    print('{0:s}: {1:s}\\n'.format(key, str(value)))"
   ]
  },
  {
   "cell_type": "code",
   "execution_count": 12,
   "metadata": {},
   "outputs": [
    {
     "name": "stdout",
     "output_type": "stream",
     "text": [
      "Transpose of a matrix:\n",
      "[[ 3 -8 -7  5]\n",
      " [-5 -3  6 -2]\n",
      " [-4  8  3  0]]\n",
      "\n",
      "A pure-vector/one-dimensional array cannot be transposed:\n",
      "[1 2 3]\n",
      "\n",
      "Transpose of a vector-like matrix:\n",
      "[[1]\n",
      " [2]\n",
      " [3]]\n",
      "\n"
     ]
    }
   ],
   "source": [
    "# Transpose\n",
    "transpose = {}\n",
    "M10 = M7.T\n",
    "transpose['Transpose of a matrix'] = M10\n",
    "v2 = np.array([1,2,3]).T\n",
    "transpose['A pure-vector/one-dimensional array cannot be transposed'] = v2\n",
    "v3 = np.array([[1,2,3]]).T\n",
    "transpose['Transpose of a vector-like matrix'] = v3\n",
    "\n",
    "for key, value in transpose.items():\n",
    "    print('{0:s}:\\n{1:s}\\n'.format(key, str(value)))"
   ]
  },
  {
   "cell_type": "code",
   "execution_count": 13,
   "metadata": {},
   "outputs": [
    {
     "name": "stdout",
     "output_type": "stream",
     "text": [
      "Flattening a matrix:\n",
      "[ 3 -5 -4 -8 -3  8 -7  6  3  5 -2  0]\n",
      "\n"
     ]
    }
   ],
   "source": [
    "# Flatten\n",
    "M11 = M7.flatten()\n",
    "print('Flattening a matrix:\\n{0:s}\\n'.format(str(M11)))"
   ]
  },
  {
   "cell_type": "code",
   "execution_count": 21,
   "metadata": {},
   "outputs": [
    {
     "name": "stdout",
     "output_type": "stream",
     "text": [
      "Matrix: \n",
      "[[-2  5  2]\n",
      " [ 5 -8  1]\n",
      " [ 1 -1 -4]]\n",
      "+ Rank: 3\n",
      "+ Determinant: 45.000000\n",
      "\n"
     ]
    }
   ],
   "source": [
    "# Rank\n",
    "r = np.linalg.matrix_rank(M5)\n",
    "\n",
    "# Determinant\n",
    "det = np.linalg.det(M5)\n",
    "\n",
    "print('Matrix: \\n{0:s}\\n+ Rank: {1:d}\\n+ Determinant: {2:f}\\n'.format(str(M5), r, det))"
   ]
  },
  {
   "cell_type": "code",
   "execution_count": null,
   "metadata": {},
   "outputs": [],
   "source": []
  }
 ],
 "metadata": {
  "kernelspec": {
   "display_name": "Python 3",
   "language": "python",
   "name": "python3"
  },
  "language_info": {
   "codemirror_mode": {
    "name": "ipython",
    "version": 3
   },
   "file_extension": ".py",
   "mimetype": "text/x-python",
   "name": "python",
   "nbconvert_exporter": "python",
   "pygments_lexer": "ipython3",
   "version": "3.6.9"
  }
 },
 "nbformat": 4,
 "nbformat_minor": 4
}
